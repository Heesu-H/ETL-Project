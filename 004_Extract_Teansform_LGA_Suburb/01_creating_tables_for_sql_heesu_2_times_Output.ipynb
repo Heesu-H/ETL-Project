{
 "cells": [
  {
   "cell_type": "code",
   "execution_count": 1,
   "metadata": {},
   "outputs": [],
   "source": [
    "import pandas as pd\n",
    "import numpy as np"
   ]
  },
  {
   "cell_type": "markdown",
   "metadata": {},
   "source": [
    "### Reading in data of all australian crimes by local government area, suburb and offences"
   ]
  },
  {
   "cell_type": "code",
   "execution_count": 2,
   "metadata": {},
   "outputs": [
    {
     "data": {
      "text/html": [
       "<div>\n",
       "<style scoped>\n",
       "    .dataframe tbody tr th:only-of-type {\n",
       "        vertical-align: middle;\n",
       "    }\n",
       "\n",
       "    .dataframe tbody tr th {\n",
       "        vertical-align: top;\n",
       "    }\n",
       "\n",
       "    .dataframe thead th {\n",
       "        text-align: right;\n",
       "    }\n",
       "</style>\n",
       "<table border=\"1\" class=\"dataframe\">\n",
       "  <thead>\n",
       "    <tr style=\"text-align: right;\">\n",
       "      <th></th>\n",
       "      <th>lga_name</th>\n",
       "      <th>postcode</th>\n",
       "      <th>suburb</th>\n",
       "      <th>crime_id</th>\n",
       "      <th>crime_name</th>\n",
       "      <th>average_incident</th>\n",
       "    </tr>\n",
       "  </thead>\n",
       "  <tbody>\n",
       "    <tr>\n",
       "      <th>0</th>\n",
       "      <td>Banyule</td>\n",
       "      <td>3079</td>\n",
       "      <td>ivanhoe</td>\n",
       "      <td>A20</td>\n",
       "      <td>Assault and related offences</td>\n",
       "      <td>43.600000</td>\n",
       "    </tr>\n",
       "    <tr>\n",
       "      <th>1</th>\n",
       "      <td>Banyule</td>\n",
       "      <td>3079</td>\n",
       "      <td>ivanhoe</td>\n",
       "      <td>A50</td>\n",
       "      <td>Robbery</td>\n",
       "      <td>3.000000</td>\n",
       "    </tr>\n",
       "    <tr>\n",
       "      <th>2</th>\n",
       "      <td>Banyule</td>\n",
       "      <td>3079</td>\n",
       "      <td>ivanhoe</td>\n",
       "      <td>A70</td>\n",
       "      <td>Stalking, harassment and threatening behaviour</td>\n",
       "      <td>8.100000</td>\n",
       "    </tr>\n",
       "    <tr>\n",
       "      <th>3</th>\n",
       "      <td>Banyule</td>\n",
       "      <td>3079</td>\n",
       "      <td>ivanhoe</td>\n",
       "      <td>A80</td>\n",
       "      <td>Dangerous and negligent acts endangering people</td>\n",
       "      <td>3.333333</td>\n",
       "    </tr>\n",
       "    <tr>\n",
       "      <th>4</th>\n",
       "      <td>Banyule</td>\n",
       "      <td>3079</td>\n",
       "      <td>ivanhoe</td>\n",
       "      <td>B10</td>\n",
       "      <td>Arson</td>\n",
       "      <td>3.400000</td>\n",
       "    </tr>\n",
       "    <tr>\n",
       "      <th>...</th>\n",
       "      <td>...</td>\n",
       "      <td>...</td>\n",
       "      <td>...</td>\n",
       "      <td>...</td>\n",
       "      <td>...</td>\n",
       "      <td>...</td>\n",
       "    </tr>\n",
       "    <tr>\n",
       "      <th>6479</th>\n",
       "      <td>Yarra Ranges</td>\n",
       "      <td>3796</td>\n",
       "      <td>mount evelyn</td>\n",
       "      <td>D30</td>\n",
       "      <td>Public nuisance offences</td>\n",
       "      <td>1.833333</td>\n",
       "    </tr>\n",
       "    <tr>\n",
       "      <th>6480</th>\n",
       "      <td>Yarra Ranges</td>\n",
       "      <td>3796</td>\n",
       "      <td>mount evelyn</td>\n",
       "      <td>E10</td>\n",
       "      <td>Justice procedures</td>\n",
       "      <td>4.250000</td>\n",
       "    </tr>\n",
       "    <tr>\n",
       "      <th>6481</th>\n",
       "      <td>Yarra Ranges</td>\n",
       "      <td>3796</td>\n",
       "      <td>mount evelyn</td>\n",
       "      <td>E20</td>\n",
       "      <td>Breaches of orders</td>\n",
       "      <td>21.800000</td>\n",
       "    </tr>\n",
       "    <tr>\n",
       "      <th>6482</th>\n",
       "      <td>Yarra Ranges</td>\n",
       "      <td>3796</td>\n",
       "      <td>mount evelyn</td>\n",
       "      <td>F90</td>\n",
       "      <td>Miscellaneous offences</td>\n",
       "      <td>4.333333</td>\n",
       "    </tr>\n",
       "    <tr>\n",
       "      <th>6483</th>\n",
       "      <td>Yarra Ranges</td>\n",
       "      <td>3796</td>\n",
       "      <td>mount evelyn</td>\n",
       "      <td>Other</td>\n",
       "      <td>crimes against the person</td>\n",
       "      <td>10.300000</td>\n",
       "    </tr>\n",
       "  </tbody>\n",
       "</table>\n",
       "<p>6484 rows × 6 columns</p>\n",
       "</div>"
      ],
      "text/plain": [
       "          lga_name  postcode        suburb crime_id  \\\n",
       "0          Banyule      3079       ivanhoe      A20   \n",
       "1          Banyule      3079       ivanhoe      A50   \n",
       "2          Banyule      3079       ivanhoe      A70   \n",
       "3          Banyule      3079       ivanhoe      A80   \n",
       "4          Banyule      3079       ivanhoe      B10   \n",
       "...            ...       ...           ...      ...   \n",
       "6479  Yarra Ranges      3796  mount evelyn      D30   \n",
       "6480  Yarra Ranges      3796  mount evelyn      E10   \n",
       "6481  Yarra Ranges      3796  mount evelyn      E20   \n",
       "6482  Yarra Ranges      3796  mount evelyn      F90   \n",
       "6483  Yarra Ranges      3796  mount evelyn    Other   \n",
       "\n",
       "                                           crime_name  average_incident  \n",
       "0                        Assault and related offences         43.600000  \n",
       "1                                             Robbery          3.000000  \n",
       "2      Stalking, harassment and threatening behaviour          8.100000  \n",
       "3     Dangerous and negligent acts endangering people          3.333333  \n",
       "4                                               Arson          3.400000  \n",
       "...                                               ...               ...  \n",
       "6479                         Public nuisance offences          1.833333  \n",
       "6480                               Justice procedures          4.250000  \n",
       "6481                               Breaches of orders         21.800000  \n",
       "6482                           Miscellaneous offences          4.333333  \n",
       "6483                        crimes against the person         10.300000  \n",
       "\n",
       "[6484 rows x 6 columns]"
      ]
     },
     "execution_count": 2,
     "metadata": {},
     "output_type": "execute_result"
    }
   ],
   "source": [
    "crime_df=pd.read_csv('../003_Extract_Transform_Crime_Data/01_Outputs/suburb_vs_crime.csv')\n",
    "crime_df"
   ]
  },
  {
   "cell_type": "markdown",
   "metadata": {},
   "source": [
    "### Making all string values lower case"
   ]
  },
  {
   "cell_type": "code",
   "execution_count": 3,
   "metadata": {},
   "outputs": [
    {
     "data": {
      "text/html": [
       "<div>\n",
       "<style scoped>\n",
       "    .dataframe tbody tr th:only-of-type {\n",
       "        vertical-align: middle;\n",
       "    }\n",
       "\n",
       "    .dataframe tbody tr th {\n",
       "        vertical-align: top;\n",
       "    }\n",
       "\n",
       "    .dataframe thead th {\n",
       "        text-align: right;\n",
       "    }\n",
       "</style>\n",
       "<table border=\"1\" class=\"dataframe\">\n",
       "  <thead>\n",
       "    <tr style=\"text-align: right;\">\n",
       "      <th></th>\n",
       "      <th>lga_name</th>\n",
       "      <th>postcode</th>\n",
       "      <th>suburb</th>\n",
       "      <th>crime_id</th>\n",
       "      <th>crime_name</th>\n",
       "      <th>average_incident</th>\n",
       "    </tr>\n",
       "  </thead>\n",
       "  <tbody>\n",
       "    <tr>\n",
       "      <th>0</th>\n",
       "      <td>banyule</td>\n",
       "      <td>3079</td>\n",
       "      <td>ivanhoe</td>\n",
       "      <td>A20</td>\n",
       "      <td>Assault and related offences</td>\n",
       "      <td>43.600000</td>\n",
       "    </tr>\n",
       "    <tr>\n",
       "      <th>1</th>\n",
       "      <td>banyule</td>\n",
       "      <td>3079</td>\n",
       "      <td>ivanhoe</td>\n",
       "      <td>A50</td>\n",
       "      <td>Robbery</td>\n",
       "      <td>3.000000</td>\n",
       "    </tr>\n",
       "    <tr>\n",
       "      <th>2</th>\n",
       "      <td>banyule</td>\n",
       "      <td>3079</td>\n",
       "      <td>ivanhoe</td>\n",
       "      <td>A70</td>\n",
       "      <td>Stalking, harassment and threatening behaviour</td>\n",
       "      <td>8.100000</td>\n",
       "    </tr>\n",
       "    <tr>\n",
       "      <th>3</th>\n",
       "      <td>banyule</td>\n",
       "      <td>3079</td>\n",
       "      <td>ivanhoe</td>\n",
       "      <td>A80</td>\n",
       "      <td>Dangerous and negligent acts endangering people</td>\n",
       "      <td>3.333333</td>\n",
       "    </tr>\n",
       "    <tr>\n",
       "      <th>4</th>\n",
       "      <td>banyule</td>\n",
       "      <td>3079</td>\n",
       "      <td>ivanhoe</td>\n",
       "      <td>B10</td>\n",
       "      <td>Arson</td>\n",
       "      <td>3.400000</td>\n",
       "    </tr>\n",
       "    <tr>\n",
       "      <th>...</th>\n",
       "      <td>...</td>\n",
       "      <td>...</td>\n",
       "      <td>...</td>\n",
       "      <td>...</td>\n",
       "      <td>...</td>\n",
       "      <td>...</td>\n",
       "    </tr>\n",
       "    <tr>\n",
       "      <th>6479</th>\n",
       "      <td>yarra ranges</td>\n",
       "      <td>3796</td>\n",
       "      <td>mount evelyn</td>\n",
       "      <td>D30</td>\n",
       "      <td>Public nuisance offences</td>\n",
       "      <td>1.833333</td>\n",
       "    </tr>\n",
       "    <tr>\n",
       "      <th>6480</th>\n",
       "      <td>yarra ranges</td>\n",
       "      <td>3796</td>\n",
       "      <td>mount evelyn</td>\n",
       "      <td>E10</td>\n",
       "      <td>Justice procedures</td>\n",
       "      <td>4.250000</td>\n",
       "    </tr>\n",
       "    <tr>\n",
       "      <th>6481</th>\n",
       "      <td>yarra ranges</td>\n",
       "      <td>3796</td>\n",
       "      <td>mount evelyn</td>\n",
       "      <td>E20</td>\n",
       "      <td>Breaches of orders</td>\n",
       "      <td>21.800000</td>\n",
       "    </tr>\n",
       "    <tr>\n",
       "      <th>6482</th>\n",
       "      <td>yarra ranges</td>\n",
       "      <td>3796</td>\n",
       "      <td>mount evelyn</td>\n",
       "      <td>F90</td>\n",
       "      <td>Miscellaneous offences</td>\n",
       "      <td>4.333333</td>\n",
       "    </tr>\n",
       "    <tr>\n",
       "      <th>6483</th>\n",
       "      <td>yarra ranges</td>\n",
       "      <td>3796</td>\n",
       "      <td>mount evelyn</td>\n",
       "      <td>Other</td>\n",
       "      <td>crimes against the person</td>\n",
       "      <td>10.300000</td>\n",
       "    </tr>\n",
       "  </tbody>\n",
       "</table>\n",
       "<p>6484 rows × 6 columns</p>\n",
       "</div>"
      ],
      "text/plain": [
       "          lga_name  postcode        suburb crime_id  \\\n",
       "0          banyule      3079       ivanhoe      A20   \n",
       "1          banyule      3079       ivanhoe      A50   \n",
       "2          banyule      3079       ivanhoe      A70   \n",
       "3          banyule      3079       ivanhoe      A80   \n",
       "4          banyule      3079       ivanhoe      B10   \n",
       "...            ...       ...           ...      ...   \n",
       "6479  yarra ranges      3796  mount evelyn      D30   \n",
       "6480  yarra ranges      3796  mount evelyn      E10   \n",
       "6481  yarra ranges      3796  mount evelyn      E20   \n",
       "6482  yarra ranges      3796  mount evelyn      F90   \n",
       "6483  yarra ranges      3796  mount evelyn    Other   \n",
       "\n",
       "                                           crime_name  average_incident  \n",
       "0                        Assault and related offences         43.600000  \n",
       "1                                             Robbery          3.000000  \n",
       "2      Stalking, harassment and threatening behaviour          8.100000  \n",
       "3     Dangerous and negligent acts endangering people          3.333333  \n",
       "4                                               Arson          3.400000  \n",
       "...                                               ...               ...  \n",
       "6479                         Public nuisance offences          1.833333  \n",
       "6480                               Justice procedures          4.250000  \n",
       "6481                               Breaches of orders         21.800000  \n",
       "6482                           Miscellaneous offences          4.333333  \n",
       "6483                        crimes against the person         10.300000  \n",
       "\n",
       "[6484 rows x 6 columns]"
      ]
     },
     "execution_count": 3,
     "metadata": {},
     "output_type": "execute_result"
    }
   ],
   "source": [
    "crime_df['lga_name'] = crime_df['lga_name'].str.lower()\n",
    "crime_df['suburb'] = crime_df['suburb'].str.lower()\n",
    "crime_df"
   ]
  },
  {
   "cell_type": "markdown",
   "metadata": {},
   "source": [
    "### grouping by lga suburb and postcode for sum of total incidnets "
   ]
  },
  {
   "cell_type": "code",
   "execution_count": 5,
   "metadata": {},
   "outputs": [],
   "source": [
    "melb_crime_df = crime_df[['lga_name','suburb','postcode']]"
   ]
  },
  {
   "cell_type": "code",
   "execution_count": null,
   "metadata": {},
   "outputs": [],
   "source": [
    "melb_crime_df"
   ]
  },
  {
   "cell_type": "markdown",
   "metadata": {},
   "source": [
    "# id and lga table"
   ]
  },
  {
   "cell_type": "markdown",
   "metadata": {},
   "source": [
    "### creating list of numbers to give ids for local government areas"
   ]
  },
  {
   "cell_type": "code",
   "execution_count": null,
   "metadata": {},
   "outputs": [],
   "source": [
    "len(list(melb_crime_df['lga_name'].unique()))\n"
   ]
  },
  {
   "cell_type": "code",
   "execution_count": null,
   "metadata": {},
   "outputs": [],
   "source": [
    "numbers = [x for x in range(1,33)]\n",
    "lga_name = list(melb_crime_df['lga_name'].unique())"
   ]
  },
  {
   "cell_type": "code",
   "execution_count": null,
   "metadata": {},
   "outputs": [],
   "source": [
    "local_govt_areas = pd.DataFrame({\n",
    "    'lga_id':numbers,\n",
    "    'lga_name':lga_name})\n"
   ]
  },
  {
   "cell_type": "code",
   "execution_count": null,
   "metadata": {
    "scrolled": true
   },
   "outputs": [],
   "source": [
    "local_govt_areas"
   ]
  },
  {
   "cell_type": "code",
   "execution_count": null,
   "metadata": {},
   "outputs": [],
   "source": [
    "local_govt_areas.to_csv('../005_Load_SQL/01_Inputs/local_govt_areas.csv', index = False)"
   ]
  },
  {
   "cell_type": "markdown",
   "metadata": {},
   "source": [
    "\n",
    "# linking table"
   ]
  },
  {
   "cell_type": "code",
   "execution_count": null,
   "metadata": {},
   "outputs": [],
   "source": [
    "dropped_df = melb_crime_df.drop_duplicates(subset='suburb')\n",
    "x = dropped_df.merge(local_govt_areas, on='lga_name', how='inner')"
   ]
  },
  {
   "cell_type": "code",
   "execution_count": null,
   "metadata": {},
   "outputs": [],
   "source": [
    "lga_suburbs = x[['lga_id','suburb']]\n",
    "lga_suburbs"
   ]
  },
  {
   "cell_type": "code",
   "execution_count": null,
   "metadata": {},
   "outputs": [],
   "source": [
    "lga_suburbs.to_csv('../005_Load_SQL/01_Inputs/lga_suburbs.csv', index = False)"
   ]
  }
 ],
 "metadata": {
  "kernelspec": {
   "display_name": "Python 3",
   "language": "python",
   "name": "python3"
  },
  "language_info": {
   "codemirror_mode": {
    "name": "ipython",
    "version": 3
   },
   "file_extension": ".py",
   "mimetype": "text/x-python",
   "name": "python",
   "nbconvert_exporter": "python",
   "pygments_lexer": "ipython3",
   "version": "3.6.10"
  }
 },
 "nbformat": 4,
 "nbformat_minor": 4
}
